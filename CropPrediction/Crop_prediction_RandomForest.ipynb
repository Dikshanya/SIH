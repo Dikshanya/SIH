{
  "nbformat": 4,
  "nbformat_minor": 0,
  "metadata": {
    "colab": {
      "name": "Crop_prediction",
      "provenance": [],
      "collapsed_sections": [],
      "include_colab_link": true
    },
    "kernelspec": {
      "name": "python3",
      "display_name": "Python 3"
    }
  },
  "cells": [
    {
      "cell_type": "markdown",
      "metadata": {
        "id": "view-in-github",
        "colab_type": "text"
      },
      "source": [
        "<a href=\"https://colab.research.google.com/github/Dikshanya/SIH/blob/master/CropPrediction/Crop_prediction_RandomForest.ipynb\" target=\"_parent\"><img src=\"https://colab.research.google.com/assets/colab-badge.svg\" alt=\"Open In Colab\"/></a>"
      ]
    },
    {
      "cell_type": "code",
      "metadata": {
        "id": "FAVTUBgBUAyT",
        "colab_type": "code",
        "colab": {
          "base_uri": "https://localhost:8080/",
          "height": 52
        },
        "outputId": "f0f00c90-1afe-4a58-a727-316d5f15494f"
      },
      "source": [
        "import pandas as pd\n",
        "import numpy as np\n",
        "from sklearn.model_selection import train_test_split\n",
        "import tensorflow as tf\n",
        "# from google.colab import files\n",
        "# uploaded = files.upload()\n",
        "# import io\n",
        "data = pd.read_csv('./cpdata.csv')\n",
        "\n",
        "print(data.head(1))\n",
        "lbl=data['label']\n"
      ],
      "execution_count": null,
      "outputs": [
        {
          "output_type": "stream",
          "text": [
            "   temperature   humidity        ph    rainfall label\n",
            "0    20.879744  82.002744  6.502985  202.935536  rice\n"
          ],
          "name": "stdout"
        }
      ]
    },
    {
      "cell_type": "code",
      "metadata": {
        "id": "5B39BV-EVPoo",
        "colab_type": "code",
        "colab": {
          "base_uri": "https://localhost:8080/",
          "height": 260
        },
        "outputId": "c6bb7161-b9f5-4e95-b966-3fcd1a50cd8d"
      },
      "source": [
        "label= pd.get_dummies(data.label).iloc[: , 1:]\n",
        "data= pd.concat([data,label],axis=1)\n",
        "data.drop('label', axis=1,inplace=True)\n",
        "print('The data present in one row of the dataset is')\n",
        "print(data.tail(10))"
      ],
      "execution_count": null,
      "outputs": [
        {
          "output_type": "stream",
          "text": [
            "The data present in one row of the dataset is\n",
            "      temperature   humidity        ph  ...  rice  watermelon  wheat\n",
            "3090    24.693689  85.569676  6.353107  ...     0           1      0\n",
            "3091    24.543570  84.608083  6.211749  ...     0           1      0\n",
            "3092    25.897623  81.966648  6.277245  ...     0           1      0\n",
            "3093    26.633312  84.317568  6.560444  ...     0           1      0\n",
            "3094    25.357947  80.458463  6.903020  ...     0           1      0\n",
            "3095    25.287846  89.636679  6.765095  ...     0           1      0\n",
            "3096    26.638386  84.695469  6.189214  ...     0           1      0\n",
            "3097    25.331045  84.305338  6.904242  ...     0           1      0\n",
            "3098    26.897502  83.892415  6.463271  ...     0           1      0\n",
            "3099    26.986037  89.413849  6.260839  ...     0           1      0\n",
            "\n",
            "[10 rows x 34 columns]\n"
          ],
          "name": "stdout"
        }
      ]
    },
    {
      "cell_type": "code",
      "metadata": {
        "id": "fhe2cco08-R3",
        "colab_type": "code",
        "colab": {
          "base_uri": "https://localhost:8080/",
          "height": 34
        },
        "outputId": "d7ff2676-3330-48c1-b036-27fd258c9fd1"
      },
      "source": [
        "X = data.iloc[:, 0:4].values\n",
        "y = data.iloc[: ,4:].values\n",
        "from sklearn.model_selection import train_test_split\n",
        "\n",
        "X_train, X_test, y_train, y_test = train_test_split(X, y, test_size=0.2, random_state=0)\n",
        "from sklearn.preprocessing import StandardScaler\n",
        "\n",
        "sc = StandardScaler()\n",
        "X_train = sc.fit_transform(X_train)\n",
        "X_test = sc.transform(X_test)\n",
        "from sklearn.ensemble import RandomForestClassifier\n",
        "\n",
        "regressor = RandomForestClassifier(n_estimators=5, random_state=0)\n",
        "regressor.fit(X_train, y_train)\n",
        "y_pred = regressor.predict(X_test)\n",
        "from sklearn.metrics import classification_report, confusion_matrix, accuracy_score\n",
        "\n",
        "print(accuracy_score(y_test, y_pred))"
      ],
      "execution_count": null,
      "outputs": [
        {
          "output_type": "stream",
          "text": [
            "0.9096774193548387\n"
          ],
          "name": "stdout"
        }
      ]
    },
    {
      "cell_type": "code",
      "metadata": {
        "id": "zqmZpcmw96As",
        "colab_type": "code",
        "colab": {
          "base_uri": "https://localhost:8080/",
          "height": 121
        },
        "outputId": "45032043-b953-4aa5-9197-c67d0cbe93ed"
      },
      "source": [
        "\n",
        "import numpy as np\n",
        "l=[]\n",
        "l1=[]\n",
        "l1.append(float (21.587))\n",
        "l1.append(float (82.788))\n",
        "l1.append( float (6.249))\n",
        "l1.append(float (276.655))\n",
        "l.append(l1)\n",
        "l2=[] \n",
        "l2.append(float (27.536))\n",
        "l2.append(float (89.929))\n",
        "l2.append(float (6.619))\n",
        "l2.append(float (\t45.485))\n",
        "l.append(l2)\n",
        "l3=[]\n",
        "l3.append(float (24.485))\n",
        "l3.append(float (83.206))\n",
        "l3.append(float (6.1325))\n",
        "l3.append(float (192.231))\n",
        "l.append(l3)\n",
        "\n",
        "predictcrop=np.array(l)\n",
        "from sklearn import preprocessing\n",
        "scalar = preprocessing.MinMaxScaler()\n",
        "crops=['rice','wheat','mungbean','Tea','millet','maize','lentil','jute','cofee','cotton',\n",
        "       'ground nut','peas','rubber','sugarcane','tobacco','kidney beans','moth beans','coconut','blackgram','adzuki beans',\n",
        "       'pigeon peas','chick peas','banana','grapes','apple','mango','muskmelon','orange','papaya','pomegranate','watermelon']\n",
        "cr='rice'\n",
        "from sklearn.datasets import make_blobs\n",
        "predictcrop = scalar.fit_transform(predictcrop)\n",
        "predictions = regressor.predict(predictcrop)\n",
        "print(predictions)\n",
        "for k in range(0,len(predictions)):\n",
        "  max_pred=np.amax(predictions[k])\n",
        "  max_indx = np.where(predictions[k] == max_pred)\n",
        "  threshold=0.8*max_pred\n",
        "  c=[]\n",
        "  for i in range(0,30):\n",
        "      if(predictions[k][i]>threshold):\n",
        "          c.append(crops[i])\n",
        "      i=i+1\n",
        "  print(c)"
      ],
      "execution_count": null,
      "outputs": [
        {
          "output_type": "stream",
          "text": [
            "[[0 0 0 1 0 0 0 0 0 0 0 0 0 0 0 0 0 0 0 0 0 0 0 0 0 0 0 0 0 0]\n",
            " [0 0 0 0 0 0 0 0 0 0 0 0 0 0 0 0 0 0 0 0 0 0 0 0 0 0 1 0 0 0]\n",
            " [0 0 0 0 0 1 0 0 0 0 0 0 0 0 0 0 0 0 0 0 0 0 0 0 0 0 0 0 0 0]]\n",
            "['Tea']\n",
            "['muskmelon']\n",
            "['maize']\n"
          ],
          "name": "stdout"
        }
      ]
    }
  ]
}
