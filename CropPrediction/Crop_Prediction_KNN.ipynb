{
  "nbformat": 4,
  "nbformat_minor": 0,
  "metadata": {
    "colab": {
      "name": "Crop_Prediction_KNN.ipynb",
      "provenance": [],
      "authorship_tag": "ABX9TyOXO8I/ITObG5rbp/clp5ol",
      "include_colab_link": true
    },
    "kernelspec": {
      "name": "python3",
      "display_name": "Python 3"
    }
  },
  "cells": [
    {
      "cell_type": "markdown",
      "metadata": {
        "id": "view-in-github",
        "colab_type": "text"
      },
      "source": [
        "<a href=\"https://colab.research.google.com/github/Dikshanya/SIH/blob/master/CropPrediction/Crop_Prediction_KNN.ipynb\" target=\"_parent\"><img src=\"https://colab.research.google.com/assets/colab-badge.svg\" alt=\"Open In Colab\"/></a>"
      ]
    },
    {
      "cell_type": "code",
      "metadata": {
        "id": "lOZmzElSXJ9k",
        "colab_type": "code",
        "colab": {
          "base_uri": "https://localhost:8080/",
          "height": 52
        },
        "outputId": "e793adbb-d844-44eb-f0b8-55abd78ab081"
      },
      "source": [
        "import pandas as pd\n",
        "import numpy as np\n",
        "from sklearn.model_selection import train_test_split\n",
        "import tensorflow as tf\n",
        "# from google.colab import files\n",
        "# uploaded = files.upload()\n",
        "# import io\n",
        "data = pd.read_csv('./cpdata.csv')\n",
        "\n",
        "print(data.head(1))\n",
        "lbl=data['label']"
      ],
      "execution_count": 23,
      "outputs": [
        {
          "output_type": "stream",
          "text": [
            "   temperature   humidity        ph    rainfall label\n",
            "0    20.879744  82.002744  6.502985  202.935536  rice\n"
          ],
          "name": "stdout"
        }
      ]
    },
    {
      "cell_type": "code",
      "metadata": {
        "id": "r3COPoO0XMTx",
        "colab_type": "code",
        "colab": {
          "base_uri": "https://localhost:8080/",
          "height": 260
        },
        "outputId": "42086625-c907-4e6b-d1da-291407bd108c"
      },
      "source": [
        "label= pd.get_dummies(data.label).iloc[: , 1:]\n",
        "data= pd.concat([data,label],axis=1)\n",
        "data.drop('label', axis=1,inplace=True)\n",
        "print('The data present in one row of the dataset is')\n",
        "print(data.tail(10))"
      ],
      "execution_count": 24,
      "outputs": [
        {
          "output_type": "stream",
          "text": [
            "The data present in one row of the dataset is\n",
            "      temperature   humidity        ph  ...  rice  watermelon  wheat\n",
            "3090    24.693689  85.569676  6.353107  ...     0           1      0\n",
            "3091    24.543570  84.608083  6.211749  ...     0           1      0\n",
            "3092    25.897623  81.966648  6.277245  ...     0           1      0\n",
            "3093    26.633312  84.317568  6.560444  ...     0           1      0\n",
            "3094    25.357947  80.458463  6.903020  ...     0           1      0\n",
            "3095    25.287846  89.636679  6.765095  ...     0           1      0\n",
            "3096    26.638386  84.695469  6.189214  ...     0           1      0\n",
            "3097    25.331045  84.305338  6.904242  ...     0           1      0\n",
            "3098    26.897502  83.892415  6.463271  ...     0           1      0\n",
            "3099    26.986037  89.413849  6.260839  ...     0           1      0\n",
            "\n",
            "[10 rows x 34 columns]\n"
          ],
          "name": "stdout"
        }
      ]
    },
    {
      "cell_type": "code",
      "metadata": {
        "id": "e8l-v8XiXMzI",
        "colab_type": "code",
        "colab": {
          "base_uri": "https://localhost:8080/",
          "height": 34
        },
        "outputId": "5099f55a-6976-476d-bcd3-9787ee98ade4"
      },
      "source": [
        "X = data.iloc[:, 0:4].values\n",
        "Y = data.iloc[: ,4:].values\n",
        "from sklearn.model_selection import train_test_split\n",
        "\n",
        "from sklearn import preprocessing\n",
        "from sklearn.preprocessing import StandardScaler\n",
        "scaler = StandardScaler()\n",
        "\n",
        "min_max_scaler = preprocessing.MinMaxScaler()\n",
        "X_scale = min_max_scaler.fit_transform(X)\n",
        "X_scale\n",
        "from sklearn.model_selection import train_test_split\n",
        "X_train, X_val_and_test, Y_train, Y_val_and_test = train_test_split(X_scale, Y, test_size=0.3)\n",
        "X_val, X_test, Y_val, Y_test = train_test_split(X_val_and_test, Y_val_and_test, test_size=0.5)\n",
        "# print(X_train.shape, X_val.shape, X_test.shape, Y_train.shape, Y_val.shape, Y_test.shape)\n",
        "from sklearn.metrics import accuracy_score\n",
        "scaler.fit(X_train)\n",
        "\n",
        "X_train = scaler.transform(X_train)\n",
        "X_test = scaler.transform(X_test)\n",
        "\n",
        "from sklearn.neighbors import KNeighborsClassifier\n",
        "classifier = KNeighborsClassifier(n_neighbors=5)\n",
        "classifier.fit(X_train, Y_train)\n",
        "\n",
        "Y_pred = classifier.predict(X_test)\n",
        "print(accuracy_score(Y_test, Y_pred))"
      ],
      "execution_count": 25,
      "outputs": [
        {
          "output_type": "stream",
          "text": [
            "0.8688172043010752\n"
          ],
          "name": "stdout"
        }
      ]
    },
    {
      "cell_type": "code",
      "metadata": {
        "id": "XTdG5nWrXNO3",
        "colab_type": "code",
        "colab": {
          "base_uri": "https://localhost:8080/",
          "height": 121
        },
        "outputId": "76317254-7d98-464e-8829-09285138e79a"
      },
      "source": [
        "'''print(X_val[10])\n",
        "pred1=model.predict_classes(X_val)\n",
        "print(pred1)\n",
        "'''\n",
        "import numpy as np\n",
        "l=[]\n",
        "l1=[]#rice\n",
        "l1.append(float (21.587))\n",
        "l1.append(float (82.788))\n",
        "l1.append( float (6.249))\n",
        "l1.append(float (276.655))\n",
        "l.append(l1)\n",
        "l2=[] #mungbean(258)\n",
        "l2.append(float (27.536))\n",
        "l2.append(float (89.929))\n",
        "l2.append(float (6.619))\n",
        "l2.append(float (\t45.485))\n",
        "l.append(l2)\n",
        "l3=[] #jute(767)\n",
        "l3.append(float (24.485))\n",
        "l3.append(float (83.206))\n",
        "l3.append(float (6.1325))\n",
        "l3.append(float (192.231))\n",
        "l.append(l3)\n",
        "\n",
        "predictcrop=np.array(l)\n",
        "# print(predictcrop.shape)\n",
        "from sklearn import preprocessing\n",
        "scalar = preprocessing.MinMaxScaler()\n",
        "# Putting the names of crop in a single list\n",
        "crops=['rice','wheat','mungbean','Tea','millet','maize','lentil','jute','cofee','cotton',\n",
        "       'ground nut','peas','rubber','sugarcane','tobacco','kidney beans','moth beans','coconut','blackgram','adzuki beans',\n",
        "       'pigeon peas','chick peas','banana','grapes','apple','mango','muskmelon','orange','papaya','pomegranate','watermelon']\n",
        "cr='rice'\n",
        "from sklearn.datasets import make_blobs\n",
        "predictcrop = scalar.fit_transform(predictcrop)\n",
        "predictions = classifier.predict(predictcrop)\n",
        "\n",
        "print(predictions)\n",
        "for k in range(0,len(predictions)):\n",
        "  max_pred=np.amax(predictions[k])\n",
        "  max_indx = np.where(predictions[k] == max_pred)\n",
        "  threshold=0.8*max_pred\n",
        "  c=[]\n",
        "  for i in range(0,30):\n",
        "      if(predictions[k][i]>threshold):\n",
        "          c.append(crops[i])\n",
        "      i=i+1\n",
        "  print(c)\n",
        "    "
      ],
      "execution_count": 26,
      "outputs": [
        {
          "output_type": "stream",
          "text": [
            "[[0 0 0 1 0 0 0 0 0 0 0 0 0 0 0 0 0 0 0 0 0 0 0 0 0 0 0 0 0 0]\n",
            " [0 0 0 0 0 0 0 0 0 0 0 0 0 0 0 0 0 0 0 0 0 0 0 0 1 0 0 0 0 0]\n",
            " [0 0 0 0 0 1 0 0 0 0 0 0 0 0 0 0 0 0 0 0 0 0 0 0 0 0 0 0 0 0]]\n",
            "['Tea']\n",
            "['apple']\n",
            "['maize']\n"
          ],
          "name": "stdout"
        }
      ]
    }
  ]
}
