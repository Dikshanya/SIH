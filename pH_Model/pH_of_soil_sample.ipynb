{
 "cells": [
  {
   "cell_type": "code",
   "execution_count": 1,
   "metadata": {},
   "outputs": [],
   "source": [
    "from sklearn.tree import DecisionTreeClassifier\n",
    "import pandas as pd\n",
    "import numpy as np\n",
    "import matplotlib.pylab as plt"
   ]
  },
  {
   "cell_type": "code",
   "execution_count": 2,
   "metadata": {},
   "outputs": [],
   "source": [
    "df = pd.read_csv(\"pH Dataset - Sheet1.csv\")"
   ]
  },
  {
   "cell_type": "code",
   "execution_count": 3,
   "metadata": {},
   "outputs": [
    {
     "data": {
      "text/html": [
       "<div>\n",
       "<style scoped>\n",
       "    .dataframe tbody tr th:only-of-type {\n",
       "        vertical-align: middle;\n",
       "    }\n",
       "\n",
       "    .dataframe tbody tr th {\n",
       "        vertical-align: top;\n",
       "    }\n",
       "\n",
       "    .dataframe thead th {\n",
       "        text-align: right;\n",
       "    }\n",
       "</style>\n",
       "<table border=\"1\" class=\"dataframe\">\n",
       "  <thead>\n",
       "    <tr style=\"text-align: right;\">\n",
       "      <th></th>\n",
       "      <th>R</th>\n",
       "      <th>G</th>\n",
       "      <th>B</th>\n",
       "      <th>pH</th>\n",
       "    </tr>\n",
       "  </thead>\n",
       "  <tbody>\n",
       "    <tr>\n",
       "      <th>0</th>\n",
       "      <td>133</td>\n",
       "      <td>98</td>\n",
       "      <td>30</td>\n",
       "      <td>7.05</td>\n",
       "    </tr>\n",
       "    <tr>\n",
       "      <th>1</th>\n",
       "      <td>172</td>\n",
       "      <td>139</td>\n",
       "      <td>106</td>\n",
       "      <td>6.80</td>\n",
       "    </tr>\n",
       "    <tr>\n",
       "      <th>2</th>\n",
       "      <td>176</td>\n",
       "      <td>152</td>\n",
       "      <td>114</td>\n",
       "      <td>6.63</td>\n",
       "    </tr>\n",
       "    <tr>\n",
       "      <th>3</th>\n",
       "      <td>158</td>\n",
       "      <td>132</td>\n",
       "      <td>51</td>\n",
       "      <td>6.64</td>\n",
       "    </tr>\n",
       "    <tr>\n",
       "      <th>4</th>\n",
       "      <td>197</td>\n",
       "      <td>164</td>\n",
       "      <td>123</td>\n",
       "      <td>8.35</td>\n",
       "    </tr>\n",
       "  </tbody>\n",
       "</table>\n",
       "</div>"
      ],
      "text/plain": [
       "     R    G    B    pH\n",
       "0  133   98   30  7.05\n",
       "1  172  139  106  6.80\n",
       "2  176  152  114  6.63\n",
       "3  158  132   51  6.64\n",
       "4  197  164  123  8.35"
      ]
     },
     "execution_count": 3,
     "metadata": {},
     "output_type": "execute_result"
    }
   ],
   "source": [
    "df.head()"
   ]
  },
  {
   "cell_type": "code",
   "execution_count": 4,
   "metadata": {},
   "outputs": [
    {
     "name": "stdout",
     "output_type": "stream",
     "text": [
      "0 0.7744360902255639 40.38608657566246\n",
      "1 0.38372093023255816 30.38372093023256\n",
      "2 0.3522727272727273 37.12646627565982\n",
      "3 0.6772151898734177 46.097775937536966\n",
      "4 0.3756345177664975 33.61887776100974\n",
      "5 0.4789473684210526 32.1272990167727\n",
      "6 0.24083769633507854 22.414750739813336\n",
      "7 0.09580838323353294 352.59580838323353\n",
      "8 0.5526315789473685 38.409774436090224\n",
      "9 0.6756756756756757 42.67567567567568\n",
      "10 0.5864661654135338 37.50954308849046\n",
      "11 0.5397727272727273 35.9081937799043\n",
      "12 0.43349753694581283 27.706224809673085\n",
      "13 0.4319526627218935 33.30866499148901\n",
      "14 0.41714285714285715 26.718512720156554\n",
      "15 0.4567901234567901 32.889222555889226\n",
      "16 0.5555555555555556 39.88888888888889\n",
      "17 0.5476190476190477 34.46066252587992\n",
      "18 0.5769230769230769 35.910256410256416\n",
      "19 0.4294478527607362 33.00087642418931\n",
      "20 0.3956043956043956 30.395604395604394\n",
      "21 0.4685714285714286 33.395400696864115\n",
      "22 0.24154589371980675 35.04154589371981\n",
      "23 0.4946236559139785 33.10331930808789\n",
      "24 0.23788546255506607 40.23788546255506\n",
      "25 0.37433155080213903 32.94576012223071\n",
      "26 0.4469026548672566 36.6845264172435\n",
      "27 0.44387755102040816 25.961118930330752\n",
      "28 0.3103448275862069 26.97701149425287\n",
      "29 0.4258064516129032 44.06217008797654\n",
      "30 0.49044585987261147 42.56836793779469\n",
      "31 0.6256983240223464 33.83998403830806\n",
      "32 0.4652173913043478 32.988581877285654\n",
      "33 0.42788461538461536 28.74249135695765\n",
      "34 0.4846938775510204 31.432062298603654\n",
      "35 0.6079545454545454 39.860290994052676\n",
      "36 0.7252747252747253 39.81618381618381\n",
      "37 0.7890625 47.125696163366335\n",
      "38 0.5081081081081081 41.35917193789535\n",
      "39 0.6578947368421053 42.6578947368421\n",
      "40 0.33624454148471616 45.531049736289916\n",
      "41 0.36470588235294116 37.78406072106262\n",
      "42 0.30113636363636365 52.37660806174958\n",
      "43 0.7514450867052023 39.98221431747444\n",
      "44 0.4970414201183432 43.354184277261204\n",
      "45 0.41798941798941797 41.43064764583752\n",
      "46 0.40718562874251496 48.9365973934484\n",
      "47 0.478494623655914 38.90546091579075\n",
      "48 0.31097560975609756 55.60509325681492\n",
      "49 0.2974683544303797 50.084702396983566\n",
      "    Saturation  Mean_hue_sat\n",
      "0     0.774436     40.386087\n",
      "1     0.383721     30.383721\n",
      "2     0.352273     37.126466\n",
      "3     0.677215     46.097776\n",
      "4     0.375635     33.618878\n",
      "5     0.478947     32.127299\n",
      "6     0.240838     22.414751\n",
      "7     0.095808    352.595808\n",
      "8     0.552632     38.409774\n",
      "9     0.675676     42.675676\n",
      "10    0.586466     37.509543\n",
      "11    0.539773     35.908194\n",
      "12    0.433498     27.706225\n",
      "13    0.431953     33.308665\n",
      "14    0.417143     26.718513\n",
      "15    0.456790     32.889223\n",
      "16    0.555556     39.888889\n",
      "17    0.547619     34.460663\n",
      "18    0.576923     35.910256\n",
      "19    0.429448     33.000876\n",
      "20    0.395604     30.395604\n",
      "21    0.468571     33.395401\n",
      "22    0.241546     35.041546\n",
      "23    0.494624     33.103319\n",
      "24    0.237885     40.237885\n",
      "25    0.374332     32.945760\n",
      "26    0.446903     36.684526\n",
      "27    0.443878     25.961119\n",
      "28    0.310345     26.977011\n",
      "29    0.425806     44.062170\n",
      "30    0.490446     42.568368\n",
      "31    0.625698     33.839984\n",
      "32    0.465217     32.988582\n",
      "33    0.427885     28.742491\n",
      "34    0.484694     31.432062\n",
      "35    0.607955     39.860291\n",
      "36    0.725275     39.816184\n",
      "37    0.789062     47.125696\n",
      "38    0.508108     41.359172\n",
      "39    0.657895     42.657895\n",
      "40    0.336245     45.531050\n",
      "41    0.364706     37.784061\n",
      "42    0.301136     52.376608\n",
      "43    0.751445     39.982214\n",
      "44    0.497041     43.354184\n",
      "45    0.417989     41.430648\n",
      "46    0.407186     48.936597\n",
      "47    0.478495     38.905461\n",
      "48    0.310976     55.605093\n",
      "49    0.297468     50.084702\n"
     ]
    }
   ],
   "source": [
    "sat_hue_df = pd.DataFrame(columns=['Saturation', 'Mean_hue_sat'])\n",
    "for i in range(0,len(df)):\n",
    "  red=df['R'][i]\n",
    "  green=df['G'][i]\n",
    "  blue=df['B'][i]\n",
    "  maximum=max([red,blue,green])\n",
    "  minimum=min([red,blue,green])\n",
    "  value=maximum\n",
    "  cost=maximum-minimum\n",
    "  if value==0:\n",
    "    saturation=0\n",
    "  else:\n",
    "    saturation=float(cost)/float(value)\n",
    "  if cost==0:\n",
    "    hue=0\n",
    "  elif maximum==red:\n",
    "    x=float(green-blue)/float(cost)\n",
    "    hue=60*(x%6)\n",
    "  elif maximum==green:\n",
    "    x=float(blue-red)/float(cost)\n",
    "    hue = 60 * (x+ 2);\n",
    "  elif maximum==blue:\n",
    "    x=float(red-green)/float(cost)\n",
    "    hue = 60 * (x+4);\n",
    "  print(i,saturation,saturation+hue)\n",
    "  sat_hue_df = sat_hue_df.append({'Saturation': saturation, 'Mean_hue_sat': saturation+hue}, ignore_index=True)\n",
    "print(sat_hue_df)"
   ]
  },
  {
   "cell_type": "code",
   "execution_count": 5,
   "metadata": {},
   "outputs": [
    {
     "name": "stdout",
     "output_type": "stream",
     "text": [
      "[[133  98  30]\n",
      " [172 139 106]\n",
      " [176 152 114]\n",
      " [158 132  51]\n",
      " [197 164 123]\n",
      " [190 147  99]\n",
      " [191 162 145]\n",
      " [167 151 153]\n",
      " [152 121  68]\n",
      " [148 118  48]\n",
      " [133 103  55]\n",
      " [176 137  81]\n",
      " [203 155 115]\n",
      " [169 136  96]\n",
      " [175 134 102]\n",
      " [162 128  88]\n",
      " [162 131  72]\n",
      " [168 128  76]\n",
      " [156 119  66]\n",
      " [163 131  93]\n",
      " [182 146 110]\n",
      " [175 138  93]\n",
      " [207 186 157]\n",
      " [186 144  94]\n",
      " [227 209 173]\n",
      " [187 155 117]\n",
      " [226 186 125]\n",
      " [196 146 109]\n",
      " [203 168 140]\n",
      " [155 137  89]\n",
      " [157 134  80]\n",
      " [179 129  67]\n",
      " [230 181 123]\n",
      " [208 161 119]\n",
      " [196 150 101]\n",
      " [176 139  69]\n",
      " [182 136  50]\n",
      " [128 105  27]\n",
      " [185 155  91]\n",
      " [152 122  52]\n",
      " [229 210 152]\n",
      " [255 220 162]\n",
      " [176 169 123]\n",
      " [173 128  43]\n",
      " [169 145  85]\n",
      " [189 164 110]\n",
      " [167 154  99]\n",
      " [186 154  97]\n",
      " [164 160 113]\n",
      " [158 150 111]]\n"
     ]
    }
   ],
   "source": [
    "# Labels are the values we want to predict\n",
    "labels = np.array(df['pH'])# Remove the labels from the features\n",
    "# axis 1 refers to the columns\n",
    "features= df.drop('pH', axis = 1)# Saving feature names for later use\n",
    "# features = sat_hue_df\n",
    "feature_list = list(features.columns)# Convert to numpy array\n",
    "features = np.array(features)\n",
    "print(features)"
   ]
  },
  {
   "cell_type": "code",
   "execution_count": 6,
   "metadata": {},
   "outputs": [],
   "source": [
    "# Using Skicit-learn to split data into training and testing sets\n",
    "from sklearn.model_selection import train_test_split# Split the data into training and testing sets\n",
    "train_features, test_features, train_labels, test_labels = train_test_split(features, labels, test_size = 0.25, random_state = 42)"
   ]
  },
  {
   "cell_type": "code",
   "execution_count": 7,
   "metadata": {},
   "outputs": [
    {
     "name": "stdout",
     "output_type": "stream",
     "text": [
      "Training Features Shape: (37, 3)\n",
      "Training Labels Shape: (37,)\n",
      "Testing Features Shape: (13, 3)\n",
      "Testing Labels Shape: (13,)\n"
     ]
    }
   ],
   "source": [
    "print('Training Features Shape:', train_features.shape)\n",
    "print('Training Labels Shape:', train_labels.shape)\n",
    "print('Testing Features Shape:', test_features.shape)\n",
    "print('Testing Labels Shape:', test_labels.shape)"
   ]
  },
  {
   "cell_type": "code",
   "execution_count": 8,
   "metadata": {},
   "outputs": [
    {
     "data": {
      "text/plain": [
       "array([[152, 121,  68],\n",
       "       [158, 132,  51],\n",
       "       [191, 162, 145],\n",
       "       [255, 220, 162],\n",
       "       [167, 154,  99],\n",
       "       [186, 154,  97],\n",
       "       [162, 128,  88],\n",
       "       [148, 118,  48],\n",
       "       [162, 131,  72],\n",
       "       [227, 209, 173],\n",
       "       [196, 150, 101],\n",
       "       [179, 129,  67],\n",
       "       [133,  98,  30],\n",
       "       [169, 145,  85],\n",
       "       [196, 146, 109],\n",
       "       [208, 161, 119],\n",
       "       [190, 147,  99],\n",
       "       [155, 137,  89],\n",
       "       [176, 137,  81],\n",
       "       [182, 136,  50],\n",
       "       [172, 139, 106],\n",
       "       [175, 138,  93],\n",
       "       [176, 152, 114],\n",
       "       [173, 128,  43],\n",
       "       [176, 139,  69],\n",
       "       [186, 144,  94],\n",
       "       [229, 210, 152],\n",
       "       [133, 103,  55],\n",
       "       [207, 186, 157],\n",
       "       [156, 119,  66],\n",
       "       [158, 150, 111],\n",
       "       [182, 146, 110],\n",
       "       [167, 151, 153],\n",
       "       [176, 169, 123],\n",
       "       [175, 134, 102],\n",
       "       [203, 168, 140],\n",
       "       [185, 155,  91]])"
      ]
     },
     "execution_count": 8,
     "metadata": {},
     "output_type": "execute_result"
    }
   ],
   "source": [
    "train_features"
   ]
  },
  {
   "cell_type": "code",
   "execution_count": 9,
   "metadata": {},
   "outputs": [],
   "source": [
    "# Import the model we are using\n",
    "from sklearn.ensemble import RandomForestRegressor# Instantiate model with 1000 decision trees\n",
    "rf = RandomForestRegressor(n_estimators = 1000, random_state = 42)# Train the model on training data\n",
    "rf.fit(train_features, train_labels);"
   ]
  },
  {
   "cell_type": "code",
   "execution_count": 10,
   "metadata": {},
   "outputs": [
    {
     "name": "stdout",
     "output_type": "stream",
     "text": [
      "Mean Absolute Error: 0.18 degrees.\n",
      "Accuracy: 97.33 %.\n"
     ]
    }
   ],
   "source": [
    "# Use the forest's predict method on the train data\n",
    "predictions = rf.predict(train_features)# Calculate the absolute errors\n",
    "errors = abs(predictions - train_labels)# Print out the mean absolute error (mae)\n",
    "print('Mean Absolute Error:', round(np.mean(errors), 2), 'degrees.')\n",
    "# Calculate mean absolute percentage error (MAPE)\n",
    "mape = 100 * (errors / train_labels)# Calculate and display accuracy\n",
    "accuracy = 100 - np.mean(mape)\n",
    "print('Accuracy:', round(accuracy, 2), '%.')"
   ]
  },
  {
   "cell_type": "code",
   "execution_count": 11,
   "metadata": {},
   "outputs": [
    {
     "name": "stdout",
     "output_type": "stream",
     "text": [
      "Mean Absolute Error: 0.69 degrees.\n"
     ]
    }
   ],
   "source": [
    "# Use the forest's predict method on the test data\n",
    "predictions = rf.predict(test_features)# Calculate the absolute errors\n",
    "errors = abs(predictions - test_labels)# Print out the mean absolute error (mae)\n",
    "print('Mean Absolute Error:', round(np.mean(errors), 2), 'degrees.')"
   ]
  },
  {
   "cell_type": "code",
   "execution_count": 12,
   "metadata": {},
   "outputs": [
    {
     "name": "stdout",
     "output_type": "stream",
     "text": [
      "Accuracy: 90.86 %.\n"
     ]
    }
   ],
   "source": [
    "# Calculate mean absolute percentage error (MAPE)\n",
    "mape = 100 * (errors / test_labels)# Calculate and display accuracy\n",
    "accuracy = 100 - np.mean(mape)\n",
    "print('Accuracy:', round(accuracy, 2), '%.')"
   ]
  },
  {
   "cell_type": "code",
   "execution_count": 13,
   "metadata": {},
   "outputs": [
    {
     "name": "stdout",
     "output_type": "stream",
     "text": [
      "[6.97509]\n"
     ]
    }
   ],
   "source": [
    "input = [[172, 139, 106]]\n",
    "output = rf.predict(input)\n",
    "print(output)"
   ]
  },
  {
   "cell_type": "code",
   "execution_count": 14,
   "metadata": {},
   "outputs": [],
   "source": [
    "#In order to quantify the usefulness of all the variables in the entire random forest,\n",
    "#we can look at the relative importances of the variables.\n",
    "#The importances returned in Skicit-learn represent how much including a particular variable \n",
    "#improves the prediction."
   ]
  },
  {
   "cell_type": "code",
   "execution_count": 15,
   "metadata": {},
   "outputs": [
    {
     "name": "stdout",
     "output_type": "stream",
     "text": [
      "Variable: B                    Importance: 0.48\n",
      "Variable: R                    Importance: 0.26\n",
      "Variable: G                    Importance: 0.26\n"
     ]
    }
   ],
   "source": [
    "# Get numerical feature importances\n",
    "importances = list(rf.feature_importances_)# List of tuples with variable and importance\n",
    "feature_importances = [(feature, round(importance, 2)) for feature, importance in zip(feature_list, importances)]# Sort the feature importances by most important first\n",
    "feature_importances = sorted(feature_importances, key = lambda x: x[1], reverse = True)# Print out the feature and importances \n",
    "[print('Variable: {:20} Importance: {}'.format(*pair)) for pair in feature_importances];"
   ]
  },
  {
   "cell_type": "markdown",
   "metadata": {},
   "source": [
    "# SVM"
   ]
  },
  {
   "cell_type": "code",
   "execution_count": 16,
   "metadata": {},
   "outputs": [],
   "source": [
    "from sklearn.model_selection import train_test_split# Split the data into training and testing sets\n",
    "train_features, test_features, train_labels, test_labels = train_test_split(features, labels, test_size = 0.25)"
   ]
  },
  {
   "cell_type": "code",
   "execution_count": 17,
   "metadata": {},
   "outputs": [
    {
     "name": "stdout",
     "output_type": "stream",
     "text": [
      "Training Features Shape: (37, 3)\n",
      "Training Labels Shape: (37,)\n",
      "Testing Features Shape: (13, 3)\n",
      "Testing Labels Shape: (13,)\n"
     ]
    }
   ],
   "source": [
    "print('Training Features Shape:', train_features.shape)\n",
    "print('Training Labels Shape:', train_labels.shape)\n",
    "print('Testing Features Shape:', test_features.shape)\n",
    "print('Testing Labels Shape:', test_labels.shape)"
   ]
  },
  {
   "cell_type": "code",
   "execution_count": 18,
   "metadata": {},
   "outputs": [
    {
     "name": "stderr",
     "output_type": "stream",
     "text": [
      "/home/harla/anaconda3/lib/python3.7/site-packages/sklearn/svm/base.py:196: FutureWarning: The default value of gamma will change from 'auto' to 'scale' in version 0.22 to account better for unscaled features. Set gamma explicitly to 'auto' or 'scale' to avoid this warning.\n",
      "  \"avoid this warning.\", FutureWarning)\n"
     ]
    },
    {
     "data": {
      "text/plain": [
       "SVR(C=1.0, cache_size=200, coef0=0.0, degree=3, epsilon=0.1,\n",
       "  gamma='auto_deprecated', kernel='rbf', max_iter=-1, shrinking=True,\n",
       "  tol=0.001, verbose=False)"
      ]
     },
     "execution_count": 18,
     "metadata": {},
     "output_type": "execute_result"
    }
   ],
   "source": [
    "from sklearn.svm import SVC\n",
    "from sklearn.svm import SVR\n",
    "from sklearn.svm import LinearSVC\n",
    "\n",
    "# svclassifier = LinearSVC()\n",
    "svclassifier = SVR()\n",
    "svclassifier.fit(train_features, train_labels)"
   ]
  },
  {
   "cell_type": "code",
   "execution_count": 19,
   "metadata": {},
   "outputs": [
    {
     "name": "stdout",
     "output_type": "stream",
     "text": [
      "Mean Absolute Error: 0.14 degrees.\n",
      "Accuracy: 97.89 %.\n"
     ]
    }
   ],
   "source": [
    "# Use the forest's predict method on the train data\n",
    "predictions = svclassifier.predict(train_features)# Calculate the absolute errors\n",
    "errors = abs(predictions - train_labels)# Print out the mean absolute error (mae)\n",
    "print('Mean Absolute Error:', round(np.mean(errors), 2), 'degrees.')\n",
    "# Calculate mean absolute percentage error (MAPE)\n",
    "mape = 100 * (errors / train_labels)# Calculate and display accuracy\n",
    "accuracy = 100 - np.mean(mape)\n",
    "print('Accuracy:', round(accuracy, 2), '%.')"
   ]
  },
  {
   "cell_type": "code",
   "execution_count": 20,
   "metadata": {},
   "outputs": [
    {
     "name": "stdout",
     "output_type": "stream",
     "text": [
      "Mean Absolute Error: 0.32 degrees.\n"
     ]
    }
   ],
   "source": [
    "predictions = svclassifier.predict(test_features)# Calculate the absolute errors\n",
    "errors = abs(predictions - test_labels)# Print out the mean absolute error (mae)\n",
    "print('Mean Absolute Error:', round(np.mean(errors), 2), 'degrees.')"
   ]
  },
  {
   "cell_type": "code",
   "execution_count": 21,
   "metadata": {},
   "outputs": [
    {
     "name": "stdout",
     "output_type": "stream",
     "text": [
      "Accuracy: 95.36 %.\n"
     ]
    }
   ],
   "source": [
    "# Calculate mean absolute percentage error (MAPE)\n",
    "mape = 100 * (errors / test_labels)# Calculate and display accuracy\n",
    "accuracy = 100 - np.mean(mape)\n",
    "print('Accuracy:', round(accuracy, 2), '%.')"
   ]
  },
  {
   "cell_type": "code",
   "execution_count": 22,
   "metadata": {},
   "outputs": [
    {
     "name": "stdout",
     "output_type": "stream",
     "text": [
      "[8.08155835]\n",
      "[6.95227]\n"
     ]
    }
   ],
   "source": [
    "input = [[197, 164, 123]]\n",
    "output = svclassifier.predict(input)\n",
    "print(output)\n",
    "output = rf.predict(input)\n",
    "print(output)"
   ]
  },
  {
   "cell_type": "code",
   "execution_count": 23,
   "metadata": {},
   "outputs": [
    {
     "name": "stdout",
     "output_type": "stream",
     "text": [
      "[6.73030835]\n",
      "[6.81125]\n"
     ]
    }
   ],
   "source": [
    "input = [[176, 152, 114]]\n",
    "output = svclassifier.predict(input)\n",
    "print(output)\n",
    "output = rf.predict(input)\n",
    "print(output)"
   ]
  },
  {
   "cell_type": "code",
   "execution_count": 24,
   "metadata": {},
   "outputs": [
    {
     "name": "stdout",
     "output_type": "stream",
     "text": [
      "[6.73969153]\n"
     ]
    }
   ],
   "source": [
    "import pickle\n",
    "pickle.dump(svclassifier, open('model.pkl','wb'))\n",
    "# Loading model to compare the results\n",
    "model = pickle.load(open('model.pkl','rb'))\n",
    "print(model.predict([[158, 132, 51]]))"
   ]
  },
  {
   "cell_type": "code",
   "execution_count": null,
   "metadata": {},
   "outputs": [],
   "source": []
  }
 ],
 "metadata": {
  "kernelspec": {
   "display_name": "Python 3",
   "language": "python",
   "name": "python3"
  },
  "language_info": {
   "codemirror_mode": {
    "name": "ipython",
    "version": 3
   },
   "file_extension": ".py",
   "mimetype": "text/x-python",
   "name": "python",
   "nbconvert_exporter": "python",
   "pygments_lexer": "ipython3",
   "version": "3.7.3"
  }
 },
 "nbformat": 4,
 "nbformat_minor": 2
}
